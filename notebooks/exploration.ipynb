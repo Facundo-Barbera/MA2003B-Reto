{
 "cells": [
  {
   "metadata": {},
   "cell_type": "markdown",
   "source": [
    "# Dataset Exploration\n",
    "\n",
    "_Note: For this notebook to work you will need to have run the process dataset notebook or script._\n",
    "_The file `data/processed/main_dataframe.csv` should exist._"
   ],
   "id": "d9560609ddf4b6f3"
  },
  {
   "cell_type": "code",
   "id": "initial_id",
   "metadata": {
    "collapsed": true,
    "ExecuteTime": {
     "end_time": "2025-08-22T19:33:33.880414Z",
     "start_time": "2025-08-22T19:33:33.877648Z"
    }
   },
   "source": [
    "import os\n",
    "import numpy as np\n",
    "import pandas as pd"
   ],
   "outputs": [],
   "execution_count": 6
  },
  {
   "metadata": {
    "ExecuteTime": {
     "end_time": "2025-08-22T19:33:34.014986Z",
     "start_time": "2025-08-22T19:33:33.901354Z"
    }
   },
   "cell_type": "code",
   "source": [
    "contaminants = [\"PM10\", \"PM2.5\", \"O3\", \"SO2\", \"NO2\", \"CO\", \"NO\", \"NOX\"]\n",
    "\n",
    "df = pd.read_csv(\n",
    "\t\"../data/processed/main_dataframe.csv\",\n",
    "\tparse_dates=[\"date\"],\n",
    "\tengine=\"pyarrow\"\n",
    ")"
   ],
   "id": "1975c20c41bd5a28",
   "outputs": [],
   "execution_count": 7
  },
  {
   "metadata": {
    "ExecuteTime": {
     "end_time": "2025-08-22T19:33:34.061653Z",
     "start_time": "2025-08-22T19:33:34.020292Z"
    }
   },
   "cell_type": "code",
   "source": [
    "# There are certain values with -9999 that should be treated as NaN\n",
    "df.replace(-9999, np.nan, inplace=True)"
   ],
   "id": "fa3e47b2a47107b5",
   "outputs": [],
   "execution_count": 8
  },
  {
   "metadata": {
    "ExecuteTime": {
     "end_time": "2025-08-22T19:33:34.089930Z",
     "start_time": "2025-08-22T19:33:34.068306Z"
    }
   },
   "cell_type": "code",
   "source": [
    "# Get a smaller dataframe with date, co and station_code\n",
    "new_df = df[[\"date\", \"CO\", \"station_code\"]].copy()\n",
    "new_df"
   ],
   "id": "9dd411774d2b3489",
   "outputs": [
    {
     "data": {
      "text/plain": [
       "                      date    CO station_code\n",
       "0      2020-01-01 00:00:00   NaN           SE\n",
       "1      2020-01-01 01:00:00  2.11           SE\n",
       "2      2020-01-01 02:00:00  2.06           SE\n",
       "3      2020-01-01 03:00:00  1.96           SE\n",
       "4      2020-01-01 04:00:00  1.98           SE\n",
       "...                    ...   ...          ...\n",
       "779376 2025-06-30 19:00:00   NaN          NE3\n",
       "779377 2025-06-30 20:00:00   NaN          NE3\n",
       "779378 2025-06-30 21:00:00   NaN          NE3\n",
       "779379 2025-06-30 22:00:00   NaN          NE3\n",
       "779380 2025-06-30 23:00:00   NaN          NE3\n",
       "\n",
       "[779381 rows x 3 columns]"
      ],
      "text/html": [
       "<div>\n",
       "<style scoped>\n",
       "    .dataframe tbody tr th:only-of-type {\n",
       "        vertical-align: middle;\n",
       "    }\n",
       "\n",
       "    .dataframe tbody tr th {\n",
       "        vertical-align: top;\n",
       "    }\n",
       "\n",
       "    .dataframe thead th {\n",
       "        text-align: right;\n",
       "    }\n",
       "</style>\n",
       "<table border=\"1\" class=\"dataframe\">\n",
       "  <thead>\n",
       "    <tr style=\"text-align: right;\">\n",
       "      <th></th>\n",
       "      <th>date</th>\n",
       "      <th>CO</th>\n",
       "      <th>station_code</th>\n",
       "    </tr>\n",
       "  </thead>\n",
       "  <tbody>\n",
       "    <tr>\n",
       "      <th>0</th>\n",
       "      <td>2020-01-01 00:00:00</td>\n",
       "      <td>NaN</td>\n",
       "      <td>SE</td>\n",
       "    </tr>\n",
       "    <tr>\n",
       "      <th>1</th>\n",
       "      <td>2020-01-01 01:00:00</td>\n",
       "      <td>2.11</td>\n",
       "      <td>SE</td>\n",
       "    </tr>\n",
       "    <tr>\n",
       "      <th>2</th>\n",
       "      <td>2020-01-01 02:00:00</td>\n",
       "      <td>2.06</td>\n",
       "      <td>SE</td>\n",
       "    </tr>\n",
       "    <tr>\n",
       "      <th>3</th>\n",
       "      <td>2020-01-01 03:00:00</td>\n",
       "      <td>1.96</td>\n",
       "      <td>SE</td>\n",
       "    </tr>\n",
       "    <tr>\n",
       "      <th>4</th>\n",
       "      <td>2020-01-01 04:00:00</td>\n",
       "      <td>1.98</td>\n",
       "      <td>SE</td>\n",
       "    </tr>\n",
       "    <tr>\n",
       "      <th>...</th>\n",
       "      <td>...</td>\n",
       "      <td>...</td>\n",
       "      <td>...</td>\n",
       "    </tr>\n",
       "    <tr>\n",
       "      <th>779376</th>\n",
       "      <td>2025-06-30 19:00:00</td>\n",
       "      <td>NaN</td>\n",
       "      <td>NE3</td>\n",
       "    </tr>\n",
       "    <tr>\n",
       "      <th>779377</th>\n",
       "      <td>2025-06-30 20:00:00</td>\n",
       "      <td>NaN</td>\n",
       "      <td>NE3</td>\n",
       "    </tr>\n",
       "    <tr>\n",
       "      <th>779378</th>\n",
       "      <td>2025-06-30 21:00:00</td>\n",
       "      <td>NaN</td>\n",
       "      <td>NE3</td>\n",
       "    </tr>\n",
       "    <tr>\n",
       "      <th>779379</th>\n",
       "      <td>2025-06-30 22:00:00</td>\n",
       "      <td>NaN</td>\n",
       "      <td>NE3</td>\n",
       "    </tr>\n",
       "    <tr>\n",
       "      <th>779380</th>\n",
       "      <td>2025-06-30 23:00:00</td>\n",
       "      <td>NaN</td>\n",
       "      <td>NE3</td>\n",
       "    </tr>\n",
       "  </tbody>\n",
       "</table>\n",
       "<p>779381 rows × 3 columns</p>\n",
       "</div>"
      ]
     },
     "execution_count": 9,
     "metadata": {},
     "output_type": "execute_result"
    }
   ],
   "execution_count": 9
  },
  {
   "metadata": {},
   "cell_type": "markdown",
   "source": [
    "## Saving the dataset subsets\n",
    "\n",
    "For the per-station analysis, we will create separate CSV files for each station code."
   ],
   "id": "c839db417b01618a"
  },
  {
   "metadata": {
    "ExecuteTime": {
     "end_time": "2025-08-22T19:33:39.008382Z",
     "start_time": "2025-08-22T19:33:34.121395Z"
    }
   },
   "cell_type": "code",
   "source": [
    "output_dir = os.path.join(\"..\", \"data\", \"processed\", \"subsets\")\n",
    "os.makedirs(output_dir, exist_ok=True)\n",
    "\n",
    "station_codes = df[\"station_code\"].dropna().astype(str).unique()\n",
    "\n",
    "for code in station_codes:\n",
    "    subset = df[df[\"station_code\"].astype(str) == code].copy()\n",
    "    if \"date\" in subset.columns:\n",
    "        subset.sort_values(\"date\", inplace=True)\n",
    "    filename = f\"dataset_{code.lower()}.csv\"\n",
    "    subset_path = os.path.join(output_dir, filename)\n",
    "    subset.to_csv(subset_path, index=False)"
   ],
   "id": "b07f6142d35b14d2",
   "outputs": [],
   "execution_count": 10
  }
 ],
 "metadata": {
  "kernelspec": {
   "display_name": "Python 3",
   "language": "python",
   "name": "python3"
  },
  "language_info": {
   "codemirror_mode": {
    "name": "ipython",
    "version": 2
   },
   "file_extension": ".py",
   "mimetype": "text/x-python",
   "name": "python",
   "nbconvert_exporter": "python",
   "pygments_lexer": "ipython2",
   "version": "2.7.6"
  }
 },
 "nbformat": 4,
 "nbformat_minor": 5
}
